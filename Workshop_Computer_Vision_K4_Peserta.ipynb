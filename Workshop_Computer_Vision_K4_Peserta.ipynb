{
  "nbformat": 4,
  "nbformat_minor": 0,
  "metadata": {
    "colab": {
      "provenance": [],
      "gpuType": "T4"
    },
    "kernelspec": {
      "name": "python3",
      "display_name": "Python 3"
    },
    "language_info": {
      "name": "python"
    },
    "accelerator": "GPU"
  },
  "cells": [
    {
      "cell_type": "markdown",
      "source": [
        "# Workshop: Computer Vision\n",
        "\n",
        "Dalam workshop ini, Anda akan belajar konsep dasar dari CNN dan bagaimana menerapkannya pada dataset \"Cats & Dogs\". Anda juga akan menggunakan metode augmentasi gambar, yang memungkinkan Anda untuk memperluas dataset dengan variasi data yang lebih banyak, sehingga meningkatkan kemampuan model dalam mengenali objek.\n",
        "\n",
        "Selain itu, Anda akan menggunakan teknik Transfer Learning, yang memungkinkan Anda memanfaatkan model yang sudah dilatih sebelumnya. Anda akan belajar bagaimana menggunakan pre-trained model untuk mempercepat proses pelatihan dan meningkatkan kinerja model yang Anda buat."
      ],
      "metadata": {
        "id": "zVsOHHNv5C0X"
      }
    },
    {
      "cell_type": "markdown",
      "source": [
        "## Sesi 1: Baseline CNN\n",
        "\n",
        "Anda akan mulai dengan model yang sangat efektif dengan menggunakan dataset `Cats & Dogs` tanpa metode augmentasi gambar dan teknik transfer learning.\n",
        "\n",
        "Anda akan melatih model dengan jumlah `epochs` sebanyak 20 untuk menghemat waktu tetapi jangan ragu untuk meningkatkannya jika Anda mau."
      ],
      "metadata": {
        "id": "jGADq0-v6tvJ"
      }
    },
    {
      "cell_type": "code",
      "execution_count": null,
      "metadata": {
        "id": "8-AneaJaze3U"
      },
      "outputs": [],
      "source": [
        "import zipfile\n",
        "\n",
        "!wget https://storage.googleapis.com/tensorflow-1-public/course2/cats_and_dogs_filtered.zip\n",
        "\n",
        "zip_ref = zipfile.ZipFile(\"./cats_and_dogs_filtered.zip\", 'r')\n",
        "zip_ref.extractall(\"tmp/\")\n",
        "zip_ref.close()"
      ]
    },
    {
      "cell_type": "code",
      "source": [
        "# YOUR CODE HERE\n",
        "\n",
        "\n",
        "\n",
        "#"
      ],
      "metadata": {
        "id": "GXkpVZeKJMWw"
      },
      "execution_count": null,
      "outputs": []
    },
    {
      "cell_type": "code",
      "source": [
        "import matplotlib.pyplot as plt\n",
        "\n",
        "acc = history.history['accuracy']\n",
        "val_acc = history.history['val_accuracy']\n",
        "\n",
        "loss = history.history['loss']\n",
        "val_loss = history.history['val_loss']\n",
        "\n",
        "epochs = range(len(acc))\n",
        "\n",
        "plt.plot(epochs, acc, label='training accuracy')\n",
        "plt.plot(epochs, val_acc, label='validation accuracy')\n",
        "plt.title('Training and validation accuracy')\n",
        "plt.legend()\n",
        "\n",
        "plt.figure()\n",
        "plt.plot(epochs, loss, label='training loss')\n",
        "plt.plot(epochs, val_loss, label='validation loss')\n",
        "plt.title('Training and validation loss')\n",
        "plt.legend()"
      ],
      "metadata": {
        "id": "2yl13qluMpDR"
      },
      "execution_count": null,
      "outputs": []
    },
    {
      "cell_type": "markdown",
      "source": [
        "## Sesi 2: Image Augmentation"
      ],
      "metadata": {
        "id": "wRjWo4F97GSE"
      }
    },
    {
      "cell_type": "markdown",
      "source": [
        "Berikut merupakan parameter yang biasa digunakan pada library `ImageDataGenerator` ketika menggunakan metode Augmentasi Gambar:\n",
        "\n",
        "* `rotation_range` adalah nilai dalam derajat (0–180) untuk memutar gambar secara acak.\n",
        "* `width_shift` dan `height_shift` adalah rentang (sebagai bagian dari total lebar atau tinggi) yang akan digunakan untuk menerjemahkan gambar secara vertikal atau horizontal secara acak.\n",
        "* `shear_range` adalah untuk menerapkan transformasi pemotongan secara acak.\n",
        "* `zoom_range` adalah untuk memperbesar gambar secara acak.\n",
        "* `horizontal_flip` untuk membalikkan separuh gambar secara acak secara horizontal."
      ],
      "metadata": {
        "id": "ZcwoG3Xp-UYW"
      }
    },
    {
      "cell_type": "code",
      "source": [
        "# YOUR CODE HERE\n",
        "\n",
        "\n",
        "\n",
        "#"
      ],
      "metadata": {
        "id": "s8k8lpsnJTRf"
      },
      "execution_count": null,
      "outputs": []
    },
    {
      "cell_type": "markdown",
      "source": [
        "## Sesi 3: Transfer Learning & Image Augmentation"
      ],
      "metadata": {
        "id": "HrhM9eEaDHGA"
      }
    },
    {
      "cell_type": "code",
      "source": [
        "# Download the pre-trained weights.\n",
        "!wget --no-check-certificate \\\n",
        "    https://storage.googleapis.com/mledu-datasets/inception_v3_weights_tf_dim_ordering_tf_kernels_notop.h5 \\\n",
        "    -O tmp/inception_v3_weights_tf_dim_ordering_tf_kernels_notop.h5"
      ],
      "metadata": {
        "id": "WvscnKuPErS5"
      },
      "execution_count": null,
      "outputs": []
    },
    {
      "cell_type": "code",
      "source": [
        "# YOUR CODE HERE\n",
        "\n",
        "\n",
        "\n",
        "#"
      ],
      "metadata": {
        "id": "nzdjKIqKJfFX"
      },
      "execution_count": null,
      "outputs": []
    }
  ]
}